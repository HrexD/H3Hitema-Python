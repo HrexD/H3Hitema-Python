{
 "cells": [
  {
   "cell_type": "code",
   "execution_count": 24,
   "id": "8e1437ee",
   "metadata": {},
   "outputs": [
    {
     "name": "stdout",
     "output_type": "stream",
     "text": [
      "Entrer une valeur 0 :80\n",
      "80\n",
      "Entrer une valeur 1 :44561\n",
      "80\n",
      "Entrer une valeur 2 :50\n",
      "80\n",
      "Entrer une valeur 3 :789\n",
      "80\n",
      "Entrer une valeur 4 :21564\n",
      "80\n",
      "Entrer une valeur 5 :2358\n",
      "80\n",
      "Entrer une valeur 6 :15878\n",
      "80\n",
      "Entrer une valeur 7 :15478\n",
      "80\n",
      "Entrer une valeur 8 :2015\n",
      "80\n",
      "Entrer une valeur 9 :5878\n",
      "80\n"
     ]
    }
   ],
   "source": [
    "array=[]\n",
    "indice_max=0\n",
    "for i in range(10):\n",
    "    i=int(input(f\"Entrer une valeur {i} :\"))\n",
    "    array.append(i)\n",
    "    maxi=array[0]\n",
    "print(maxi)\n",
    "\n",
    "    \n",
    "    \n"
   ]
  },
  {
   "cell_type": "code",
   "execution_count": null,
   "id": "7abd3d53",
   "metadata": {},
   "outputs": [],
   "source": []
  }
 ],
 "metadata": {
  "kernelspec": {
   "display_name": "Python 3 (ipykernel)",
   "language": "python",
   "name": "python3"
  },
  "language_info": {
   "codemirror_mode": {
    "name": "ipython",
    "version": 3
   },
   "file_extension": ".py",
   "mimetype": "text/x-python",
   "name": "python",
   "nbconvert_exporter": "python",
   "pygments_lexer": "ipython3",
   "version": "3.10.7"
  }
 },
 "nbformat": 4,
 "nbformat_minor": 5
}
