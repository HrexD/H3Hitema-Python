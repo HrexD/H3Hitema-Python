{
 "cells": [
  {
   "cell_type": "code",
   "execution_count": 1,
   "metadata": {
    "collapsed": true
   },
   "outputs": [
    {
     "ename": "NameError",
     "evalue": "name 'df_game' is not defined",
     "output_type": "error",
     "traceback": [
      "\u001B[1;31m---------------------------------------------------------------------------\u001B[0m",
      "\u001B[1;31mNameError\u001B[0m                                 Traceback (most recent call last)",
      "Cell \u001B[1;32mIn [1], line 1\u001B[0m\n\u001B[1;32m----> 1\u001B[0m corr \u001B[38;5;241m=\u001B[39m \u001B[43mdf_game\u001B[49m\u001B[38;5;241m.\u001B[39miloc[:, \u001B[38;5;241m-\u001B[39m\u001B[38;5;241m15\u001B[39m:]\u001B[38;5;241m.\u001B[39mcorr()\n\u001B[0;32m      2\u001B[0m corr\n\u001B[0;32m      3\u001B[0m f, ax \u001B[38;5;241m=\u001B[39m plt\u001B[38;5;241m.\u001B[39msubplots(figsize\u001B[38;5;241m=\u001B[39m(\u001B[38;5;241m20\u001B[39m, \u001B[38;5;241m5\u001B[39m))\n",
      "\u001B[1;31mNameError\u001B[0m: name 'df_game' is not defined"
     ]
    }
   ],
   "source": [
    "corr = df_game.iloc[:, -15:].corr()\n",
    "\n",
    "f, ax = plt.subplots(figsize=(20, 5))\n",
    "sb.heatmap(corr, annot=True, ax=ax)\n"
   ]
  },
  {
   "cell_type": "code",
   "execution_count": null,
   "outputs": [],
   "source": [],
   "metadata": {
    "collapsed": false
   }
  }
 ],
 "metadata": {
  "kernelspec": {
   "display_name": "Python 3",
   "language": "python",
   "name": "python3"
  },
  "language_info": {
   "codemirror_mode": {
    "name": "ipython",
    "version": 2
   },
   "file_extension": ".py",
   "mimetype": "text/x-python",
   "name": "python",
   "nbconvert_exporter": "python",
   "pygments_lexer": "ipython2",
   "version": "2.7.6"
  }
 },
 "nbformat": 4,
 "nbformat_minor": 0
}
