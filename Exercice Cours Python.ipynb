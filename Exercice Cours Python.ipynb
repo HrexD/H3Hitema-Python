{
 "cells": [
  {
   "cell_type": "code",
   "execution_count": 1,
   "id": "f96bf0f9",
   "metadata": {},
   "outputs": [
    {
     "name": "stdout",
     "output_type": "stream",
     "text": [
      "[1, 4, 9, 25, 36, 64, 81]\n"
     ]
    }
   ],
   "source": [
    "def f(x:list)->list:\n",
    "    return print([i**2 for i in x])\n",
    "f([1, 2, 3, 5, 6, 8, 9])\n"
   ]
  },
  {
   "cell_type": "code",
   "execution_count": 5,
   "id": "5e09630e",
   "metadata": {},
   "outputs": [
    {
     "name": "stdout",
     "output_type": "stream",
     "text": [
      "entrez un chiffre : 80\n",
      "[0, 2, 4, 6, 8, 10, 12, 14, 16, 18, 20, 22, 24, 26, 28, 30, 32, 34, 36, 38, 40, 42, 44, 46, 48, 50, 52, 54, 56, 58, 60, 62, 64, 66, 68, 70, 72, 74, 76, 78, 80]\n"
     ]
    }
   ],
   "source": [
    "while 1:\n",
    "    try:\n",
    "        n=int(input(\"entrez un chiffre : \"))\n",
    "        print([x for x in range(n+1) if x%2==0])\n",
    "        break\n",
    "    except ValueError:\n",
    "        print(\"Entrez un chiffre svp\")"
   ]
  },
  {
   "cell_type": "code",
   "execution_count": 10,
   "id": "38d4c96c",
   "metadata": {},
   "outputs": [
    {
     "name": "stdout",
     "output_type": "stream",
     "text": [
      "entrez la valeur de a :1\n",
      "entrez la valeur de b :9\n",
      "entrez la valeur de c :2\n",
      "\n",
      "Le polynome est 1x^2+ 9x + 2\n",
      "x1 = -32.0 / x2 = 41.0\n"
     ]
    }
   ],
   "source": [
    "a,b,c =int(input(\"entrez la valeur de a :\")),int(input(\"entrez la valeur de b :\")),int(input(\"entrez la valeur de c :\"))\n",
    "d=b**2-4*a*c\n",
    "print(f\"\\nLe polynome est {a}x^2+ {b}x + {c}\")\n",
    "if d<0 :\n",
    "    print(\"pas de solution réel\")\n",
    "elif d==0:\n",
    "    print(\"x1 = x2 = {}\".format(-1*(b/(2*a))))\n",
    "else:\n",
    "    print(\"x1 = {} / x2 = {}\".format(((b-d)/(2*a)),((b+d)/(2*a))))"
   ]
  },
  {
   "cell_type": "code",
   "execution_count": 13,
   "id": "d84edf17",
   "metadata": {},
   "outputs": [
    {
     "data": {
      "text/plain": [
       "False"
      ]
     },
     "execution_count": 13,
     "metadata": {},
     "output_type": "execute_result"
    }
   ],
   "source": [
    "def palindrome(c:str)->bool:\n",
    "    return c==c[::-1]\n",
    "palindrome('niche')"
   ]
  },
  {
   "cell_type": "code",
   "execution_count": 4,
   "id": "6381a94d",
   "metadata": {},
   "outputs": [
    {
     "name": "stdout",
     "output_type": "stream",
     "text": [
      "Python\n"
     ]
    }
   ],
   "source": [
    "c=[\n",
    "    [\"HTML\", \"C#\"],\n",
    "    [\"C#\", \"Python\"],\n",
    "    [\"Python\", \"HTML\"]\n",
    "]\n",
    "r=[0,0,1]\n",
    "\n",
    "def team(l):\n",
    "    t=list()\n",
    "    for i,e in enumerate(l):\n",
    "        if e[0] not in t:\n",
    "            t.append(e[0])\n",
    "        elif e[1] not in t:\n",
    "            t.append(e[1])\n",
    "    d={e:0 for e in t}\n",
    "    return d\n",
    "\n",
    "def tournamentWinner(competitions, results):\n",
    "    d = team(competitions)\n",
    "    for i,e in enumerate(competitions):\n",
    "        if results[i]==0:\n",
    "            d[e[1]]+=1\n",
    "        else:\n",
    "            d[e[0]]+=1\n",
    "    for k,v in d.items():\n",
    "        if v==max(d.values()):\n",
    "            return k\n",
    "        \n",
    "print(tournamentWinner(c,r))"
   ]
  },
  {
   "cell_type": "raw",
   "id": "28d81106",
   "metadata": {},
   "source": []
  },
  {
   "cell_type": "code",
   "execution_count": 6,
   "id": "13f2432f",
   "metadata": {},
   "outputs": [],
   "source": [
    "def maxNAdj(array):\n",
    "    if not len(array):\n",
    "        return 0\n",
    "    else:\n",
    "        ms=[]\n",
    "        ms.append(array[0])\n",
    "        ms.append(max(array[0:2]))\n",
    "        for i in range(2,len(array)):\n",
    "            ms.append(max(ms[i-1],array[i]+ms[i-2]))\n",
    "    return max(ms)"
   ]
  },
  {
   "cell_type": "code",
   "execution_count": 7,
   "id": "3cf266c4",
   "metadata": {},
   "outputs": [
    {
     "data": {
      "text/plain": [
       "330"
      ]
     },
     "execution_count": 7,
     "metadata": {},
     "output_type": "execute_result"
    }
   ],
   "source": [
    "maxNAdj([75, 105, 120, 75, 90, 135])"
   ]
  },
  {
   "cell_type": "code",
   "execution_count": 8,
   "id": "9c11c637",
   "metadata": {},
   "outputs": [
    {
     "data": {
      "text/plain": [
       "72"
      ]
     },
     "execution_count": 8,
     "metadata": {},
     "output_type": "execute_result"
    }
   ],
   "source": [
    "maxNAdj([7, 10, 12, 7, 9, 14, 15, 16, 25, 20, 4])"
   ]
  },
  {
   "cell_type": "code",
   "execution_count": null,
   "id": "22187a0e",
   "metadata": {},
   "outputs": [],
   "source": [
    "str1, str2 = \"abc\", \"yabd\""
   ]
  }
 ],
 "metadata": {
  "kernelspec": {
   "display_name": "Python 3 (ipykernel)",
   "language": "python",
   "name": "python3"
  },
  "language_info": {
   "codemirror_mode": {
    "name": "ipython",
    "version": 3
   },
   "file_extension": ".py",
   "mimetype": "text/x-python",
   "name": "python",
   "nbconvert_exporter": "python",
   "pygments_lexer": "ipython3",
   "version": "3.10.7"
  }
 },
 "nbformat": 4,
 "nbformat_minor": 5
}
