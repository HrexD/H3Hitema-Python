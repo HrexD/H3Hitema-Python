{
 "cells": [
  {
   "cell_type": "code",
   "execution_count": 1,
   "id": "f96bf0f9",
   "metadata": {},
   "outputs": [
    {
     "name": "stdout",
     "output_type": "stream",
     "text": [
      "[1, 4, 9, 25, 36, 64, 81]\n"
     ]
    }
   ],
   "source": [
    "def f(x:list)->list:\n",
    "    return print([i**2 for i in x])\n",
    "f([1, 2, 3, 5, 6, 8, 9])\n"
   ]
  },
  {
   "cell_type": "code",
   "execution_count": 2,
   "id": "5e09630e",
   "metadata": {},
   "outputs": [
    {
     "name": "stdout",
     "output_type": "stream",
     "text": [
      "entrez un chiffre : 98\n",
      "[0, 2, 4, 6, 8, 10, 12, 14, 16, 18, 20, 22, 24, 26, 28, 30, 32, 34, 36, 38, 40, 42, 44, 46, 48, 50, 52, 54, 56, 58, 60, 62, 64, 66, 68, 70, 72, 74, 76, 78, 80, 82, 84, 86, 88, 90, 92, 94, 96, 98]\n"
     ]
    }
   ],
   "source": [
    "while 1:\n",
    "    try:\n",
    "        n=int(input(\"entrez un chiffre : \"))\n",
    "        print([x for x in range(n+1) if x%2==0])\n",
    "        break\n",
    "    except ValueError:\n",
    "        print(\"Entrez un chiffre svp\")"
   ]
  },
  {
   "cell_type": "code",
   "execution_count": 3,
   "id": "38d4c96c",
   "metadata": {},
   "outputs": [
    {
     "name": "stdout",
     "output_type": "stream",
     "text": [
      "entrez la valeur de a :8\n",
      "entrez la valeur de b :4\n",
      "entrez la valeur de c :-5\n",
      "\n",
      "Le polynome est 8x^2+ 4x + -5\n",
      "x1 = -10.75 / x2 = 11.25\n"
     ]
    }
   ],
   "source": [
    "a,b,c =int(input(\"entrez la valeur de a :\")),int(input(\"entrez la valeur de b :\")),int(input(\"entrez la valeur de c :\"))\n",
    "d=b**2-4*a*c\n",
    "print(f\"\\nLe polynome est {a}x^2+ {b}x + {c}\")\n",
    "if d<0 :\n",
    "    print(\"pas de solution réel\")\n",
    "elif d==0:\n",
    "    print(\"x1 = x2 = {}\".format(-1*(b/(2*a))))\n",
    "else:\n",
    "    print(\"x1 = {} / x2 = {}\".format(((b-d)/(2*a)),((b+d)/(2*a))))"
   ]
  },
  {
   "cell_type": "code",
   "execution_count": 4,
   "id": "d84edf17",
   "metadata": {},
   "outputs": [
    {
     "data": {
      "text/plain": [
       "False"
      ]
     },
     "execution_count": 4,
     "metadata": {},
     "output_type": "execute_result"
    }
   ],
   "source": [
    "def palindrome(c:str)->bool:\n",
    "    return c==c[::-1]\n",
    "palindrome('niche')"
   ]
  },
  {
   "cell_type": "code",
   "execution_count": 5,
   "id": "b02449d2",
   "metadata": {},
   "outputs": [
    {
     "data": {
      "text/plain": [
       "True"
      ]
     },
     "execution_count": 5,
     "metadata": {},
     "output_type": "execute_result"
    }
   ],
   "source": [
    "palindrome('kayak')"
   ]
  },
  {
   "cell_type": "code",
   "execution_count": 6,
   "id": "6381a94d",
   "metadata": {},
   "outputs": [
    {
     "name": "stdout",
     "output_type": "stream",
     "text": [
      "Python\n"
     ]
    }
   ],
   "source": [
    "c=[\n",
    "    [\"HTML\", \"C#\"],\n",
    "    [\"C#\", \"Python\"],\n",
    "    [\"Python\", \"HTML\"]\n",
    "]\n",
    "r=[0,0,1]\n",
    "\n",
    "def team(l):\n",
    "    t=list()\n",
    "    for i,e in enumerate(l):\n",
    "        if e[0] not in t:\n",
    "            t.append(e[0])\n",
    "        elif e[1] not in t:\n",
    "            t.append(e[1])\n",
    "    d={e:0 for e in t}\n",
    "    return d\n",
    "\n",
    "def tournamentWinner(competitions, results):\n",
    "    d = team(competitions)\n",
    "    for i,e in enumerate(competitions):\n",
    "        if results[i]==0:\n",
    "            d[e[1]]+=1\n",
    "        else:\n",
    "            d[e[0]]+=1\n",
    "    for k,v in d.items():\n",
    "        if v==max(d.values()):\n",
    "            return k\n",
    "        \n",
    "print(tournamentWinner(c,r))"
   ]
  },
  {
   "cell_type": "raw",
   "id": "28d81106",
   "metadata": {},
   "source": []
  },
  {
   "cell_type": "code",
   "execution_count": 7,
   "id": "13f2432f",
   "metadata": {},
   "outputs": [],
   "source": [
    "def maxNAdj(array):\n",
    "    if not len(array):\n",
    "        return 0\n",
    "    else:\n",
    "        ms=[]\n",
    "        ms.append(array[0])\n",
    "        ms.append(max(array[0:2]))\n",
    "        for i in range(2,len(array)):\n",
    "            ms.append(max(ms[i-1],array[i]+ms[i-2]))\n",
    "    return max(ms)"
   ]
  },
  {
   "cell_type": "code",
   "execution_count": 8,
   "id": "3cf266c4",
   "metadata": {},
   "outputs": [
    {
     "data": {
      "text/plain": [
       "330"
      ]
     },
     "execution_count": 8,
     "metadata": {},
     "output_type": "execute_result"
    }
   ],
   "source": [
    "maxNAdj([75, 105, 120, 75, 90, 135])"
   ]
  },
  {
   "cell_type": "code",
   "execution_count": 9,
   "id": "9c11c637",
   "metadata": {},
   "outputs": [
    {
     "data": {
      "text/plain": [
       "72"
      ]
     },
     "execution_count": 9,
     "metadata": {},
     "output_type": "execute_result"
    }
   ],
   "source": [
    "maxNAdj([7, 10, 12, 7, 9, 14, 15, 16, 25, 20, 4])"
   ]
  },
  {
   "cell_type": "code",
   "execution_count": 65,
   "id": "22187a0e",
   "metadata": {},
   "outputs": [],
   "source": []
  },
  {
   "cell_type": "code",
   "execution_count": 2,
   "id": "623e0727",
   "metadata": {},
   "outputs": [],
   "source": [
    "def levDist(str1:str, str2:str):\n",
    "    \"\"\"\n",
    "    Une fonction qui calcule la distance de levenshtein\n",
    "    \"\"\"\n",
    "    #initialisation du tableau\n",
    "    d=[ [ x for x in range(len(str1) + 1)] for y in range(len(str2) + 1 )]\n",
    "    for i in range(1,len(str2)+1):\n",
    "        d[i][0]=d[i-1][0]+1\n",
    "    #remplissage\n",
    "    for i in range(1,len(str2)+1):\n",
    "        for j in range(1,len(str1)+1):\n",
    "            if str2[i-1]==str1[j-1]:\n",
    "                d[i][j]=d[i-1][j-1]\n",
    "            else:\n",
    "                d[i][j]=1+min(d[i-1][j],\n",
    "                             d[i-1][j-1],\n",
    "                             d[i][j-1])\n",
    "    return d[-1][-1]"
   ]
  },
  {
   "cell_type": "code",
   "execution_count": 19,
   "id": "c8ce4ddf",
   "metadata": {},
   "outputs": [
    {
     "data": {
      "text/plain": [
       "6"
      ]
     },
     "execution_count": 19,
     "metadata": {},
     "output_type": "execute_result"
    }
   ],
   "source": [
    "levDist(\"cereal\",\"saturday\") "
   ]
  },
  {
   "cell_type": "code",
   "execution_count": 9,
   "id": "4ae68bac",
   "metadata": {},
   "outputs": [],
   "source": [
    "def factorisation(tab1, tab2):\n",
    "    n = 0\n",
    "    for i in range(len(tab1)):\n",
    "        for j in range(len(tab2)):\n",
    "            n = n + tab1[i] * tab2[j]\n",
    "            print(n)\n",
    "    return n"
   ]
  },
  {
   "cell_type": "code",
   "execution_count": 12,
   "id": "d85408b6",
   "metadata": {},
   "outputs": [
    {
     "name": "stdout",
     "output_type": "stream",
     "text": [
      "100\n"
     ]
    }
   ],
   "source": [
    "l = [ i for i in range (0,50,10) ]\n",
    "R=sum(l)\n",
    "print(f\"{R}\")"
   ]
  },
  {
   "cell_type": "code",
   "execution_count": 17,
   "id": "88f60a99",
   "metadata": {},
   "outputs": [
    {
     "name": "stdout",
     "output_type": "stream",
     "text": [
      "0: Bob\n",
      "1: Alice\n",
      "2: Guido\n"
     ]
    }
   ],
   "source": [
    "noms = ['Bob', 'Alice', 'Guido']\n",
    "for index, value in enumerate(noms):\n",
    "    print(f'{index}: {value}')"
   ]
  },
  {
   "cell_type": "code",
   "execution_count": 18,
   "id": "a2aaa8df",
   "metadata": {},
   "outputs": [
    {
     "data": {
      "text/plain": [
       "['Bob', 'Alice', 'Guido']"
      ]
     },
     "execution_count": 18,
     "metadata": {},
     "output_type": "execute_result"
    }
   ],
   "source": [
    "noms"
   ]
  },
  {
   "cell_type": "code",
   "execution_count": 21,
   "id": "cee16fb4",
   "metadata": {},
   "outputs": [
    {
     "name": "stdout",
     "output_type": "stream",
     "text": [
      "Bonsoir\n"
     ]
    }
   ],
   "source": [
    "resultat=\"\"\n",
    "for c in \"Bonsoir\":\n",
    "    resultat=resultat+c\n",
    "print(resultat)"
   ]
  },
  {
   "cell_type": "code",
   "execution_count": 49,
   "id": "61caed29",
   "metadata": {},
   "outputs": [],
   "source": [
    "def minCharForW(words):\n",
    "    res,tmp,d=[],[],{}\n",
    "    for e in words:\n",
    "        res+=utils(e)\n",
    "    for e in res:\n",
    "        if e[0] in d:\n",
    "            if e[1]>d[e[0]]: d[e[0]]=e[1]\n",
    "        else:\n",
    "            d[e[0]]=e[1]\n",
    "    for e,i in d.items():\n",
    "        if i==1:\n",
    "            tmp.append(e)\n",
    "        else:\n",
    "            n=0\n",
    "            while n<i:\n",
    "                tmp.append(e)\n",
    "                n+=1\n",
    "    return tmp\n",
    "\n",
    "def utils(s):\n",
    "    d={}\n",
    "    for e in s:\n",
    "        if e in d:\n",
    "            continue\n",
    "        else:\n",
    "            d[e]=s.count(e)\n",
    "    return sorted(d.items(),key=lambda x:x[1], reverse=True)"
   ]
  },
  {
   "cell_type": "code",
   "execution_count": 50,
   "id": "37f95d45",
   "metadata": {},
   "outputs": [
    {
     "data": {
      "text/plain": [
       "['t', 't', 'h', 'i', 's', 'a', 'd', 'd', 'e', 'e', 'm', '!']"
      ]
     },
     "execution_count": 50,
     "metadata": {},
     "output_type": "execute_result"
    }
   ],
   "source": [
    "minCharForW([\"this\", \"that\", \"did\", \"deed\", \"them!\", \"a\"])"
   ]
  },
  {
   "cell_type": "code",
   "execution_count": 34,
   "id": "2187c22e",
   "metadata": {},
   "outputs": [
    {
     "data": {
      "text/plain": [
       "500"
      ]
     },
     "execution_count": 34,
     "metadata": {},
     "output_type": "execute_result"
    }
   ],
   "source": [
    "a=10\n",
    "if a<5:\n",
    "    a=20\n",
    "elif a<100:\n",
    "    a=500\n",
    "elif a<1000:\n",
    "    a=1\n",
    "else:\n",
    "    a=0\n",
    "a"
   ]
  },
  {
   "cell_type": "code",
   "execution_count": 46,
   "id": "fea33a63",
   "metadata": {},
   "outputs": [],
   "source": [
    "d = [[i + j for j in range(11)] for i in range(11)]"
   ]
  },
  {
   "cell_type": "code",
   "execution_count": 47,
   "id": "7872055b",
   "metadata": {},
   "outputs": [
    {
     "data": {
      "text/plain": [
       "[[0, 1, 2, 3, 4, 5, 6, 7, 8, 9, 10],\n",
       " [1, 2, 3, 4, 5, 6, 7, 8, 9, 10, 11],\n",
       " [2, 3, 4, 5, 6, 7, 8, 9, 10, 11, 12],\n",
       " [3, 4, 5, 6, 7, 8, 9, 10, 11, 12, 13],\n",
       " [4, 5, 6, 7, 8, 9, 10, 11, 12, 13, 14],\n",
       " [5, 6, 7, 8, 9, 10, 11, 12, 13, 14, 15],\n",
       " [6, 7, 8, 9, 10, 11, 12, 13, 14, 15, 16],\n",
       " [7, 8, 9, 10, 11, 12, 13, 14, 15, 16, 17],\n",
       " [8, 9, 10, 11, 12, 13, 14, 15, 16, 17, 18],\n",
       " [9, 10, 11, 12, 13, 14, 15, 16, 17, 18, 19],\n",
       " [10, 11, 12, 13, 14, 15, 16, 17, 18, 19, 20]]"
      ]
     },
     "execution_count": 47,
     "metadata": {},
     "output_type": "execute_result"
    }
   ],
   "source": [
    "d"
   ]
  },
  {
   "cell_type": "code",
   "execution_count": 48,
   "id": "f339925f",
   "metadata": {},
   "outputs": [],
   "source": [
    "def minCharForW(words):\n",
    "    res,tmp,d=[],[],{}\n",
    "    for e in words:\n",
    "        res+=utils(e)\n",
    "    for e in res:\n",
    "        if e[0] in d:\n",
    "            if e[1]>d[e[0]]: d[e[0]]=e[1]\n",
    "        else:\n",
    "            d[e[0]]=e[1]\n",
    "    for e,i in d.items():\n",
    "        if i==1:\n",
    "            tmp.append(e)\n",
    "        else:\n",
    "            n=0\n",
    "            while n<i:\n",
    "                tmp.append(e)\n",
    "                n+=1\n",
    "    return tmp\n",
    "\n",
    "def utils(s):\n",
    "    d={}\n",
    "    for e in s:\n",
    "        if e in d:\n",
    "            continue\n",
    "        else:\n",
    "            d[e]=s.count(e)\n",
    "    return sorted(d.items(),key=lambda x:x[1], reverse=True)"
   ]
  },
  {
   "cell_type": "code",
   "execution_count": null,
   "id": "4a3f4905",
   "metadata": {},
   "outputs": [],
   "source": []
  }
 ],
 "metadata": {
  "kernelspec": {
   "display_name": "Python 3 (ipykernel)",
   "language": "python",
   "name": "python3"
  },
  "language_info": {
   "codemirror_mode": {
    "name": "ipython",
    "version": 3
   },
   "file_extension": ".py",
   "mimetype": "text/x-python",
   "name": "python",
   "nbconvert_exporter": "python",
   "pygments_lexer": "ipython3",
   "version": "3.10.7"
  }
 },
 "nbformat": 4,
 "nbformat_minor": 5
}
