{
 "cells": [
  {
   "cell_type": "code",
   "execution_count": 38,
   "id": "752feea6",
   "metadata": {},
   "outputs": [
    {
     "name": "stdout",
     "output_type": "stream",
     "text": [
      "90\n",
      "2\n"
     ]
    }
   ],
   "source": [
    "array=[80, 50, 90, 22, 87, 30, 50, 80, 90]\n",
    "maxi= array[0]\n",
    "for indice_max, i in enumerate(array):\n",
    "    if i > maxi:\n",
    "        maxi=i\n",
    "        indice = indice_max\n",
    "print(maxi)\n",
    "print(indice)"
   ]
  },
  {
   "cell_type": "code",
   "execution_count": 39,
   "id": "6838814e",
   "metadata": {},
   "outputs": [
    {
     "name": "stdout",
     "output_type": "stream",
     "text": [
      "[98, 47, 83, 84, 59, 79, 26, 23, 78, 11, 25, 71, 94, 44, 37, 3, 82, 77, 81, 57]\n",
      "98\n",
      "2\n"
     ]
    }
   ],
   "source": [
    "import random\n",
    "array=random.sample(range(0,100),20)\n",
    "maxi= array[0]\n",
    "for indice_max, i in enumerate(array):\n",
    "    if i > maxi:\n",
    "        maxi=i\n",
    "        indice = indice_max\n",
    "        \n",
    "print(array)\n",
    "print(maxi)\n",
    "print(indice)"
   ]
  },
  {
   "cell_type": "code",
   "execution_count": 40,
   "id": "94be66b6",
   "metadata": {},
   "outputs": [
    {
     "name": "stdout",
     "output_type": "stream",
     "text": [
      "[8, 59, 32, 96, 51, 65, 58, 41, 24, 88, 93, 80, 86, 23, 3, 49, 16, 97, 26, 31] \n",
      "\n",
      "Moyenne de la liste = 51.3\n",
      "[58, 59, 65, 80, 86, 88, 93, 96, 97]\n",
      "[3, 8, 16, 23, 24, 26, 31, 32, 41, 49, 51]\n"
     ]
    }
   ],
   "source": [
    "def Average(array):\n",
    "    return sum(array) / len(array)\n",
    "\n",
    "import random\n",
    "array=random.sample(range(0,100),20)\n",
    "supp=[]\n",
    "lower=[]\n",
    "longueur=len(array)\n",
    "average = Average(array)\n",
    "print((array),\"\\n\")\n",
    "\n",
    "print(\"Moyenne de la liste =\", round(average, 2))\n",
    "for i in range(longueur):\n",
    "    if array[i] > average:\n",
    "        supp.append(array[i])\n",
    "    elif array[i] < average:\n",
    "        lower.append(array[i])\n",
    "print(sorted(supp))\n",
    "print(sorted(lower))"
   ]
  },
  {
   "cell_type": "code",
   "execution_count": 34,
   "id": "3f3cbd77",
   "metadata": {
    "scrolled": true
   },
   "outputs": [
    {
     "name": "stdout",
     "output_type": "stream",
     "text": [
      "[89, 38, 90, 69, 36, 77, 27, 55, 26, 97]\n",
      "l'indice max se situe en [9] position(s)\n",
      "la valeur max est 97\n"
     ]
    }
   ],
   "source": [
    "import random\n",
    "a=random.sample(range(0,100),10)\n",
    "m= max(a)\n",
    "indice=[i for i, j in enumerate(a) if j == m]\n",
    "print(a)\n",
    "print(f\"l'indice max se situe en {indice} position(s)\")\n",
    "print(f\"la valeur max est {m}\")"
   ]
  },
  {
   "cell_type": "code",
   "execution_count": 24,
   "id": "52f59ae0",
   "metadata": {},
   "outputs": [
    {
     "name": "stdout",
     "output_type": "stream",
     "text": [
      "l'indice max se situe en [2, 8] position(s)\n",
      "la valeur max est 90\n"
     ]
    }
   ],
   "source": [
    "a=[80, 50, 90, 22, 87, 30, 50, 80, 90]\n",
    "m= max(a)\n",
    "indice=[i for i, j in enumerate(a) if j == m]\n",
    "print(f\"l'indice max se situe en {indice} position(s)\")\n",
    "print(f\"la valeur max est {m}\")\n"
   ]
  },
  {
   "cell_type": "code",
   "execution_count": 78,
   "id": "2c1ea6ee",
   "metadata": {},
   "outputs": [
    {
     "data": {
      "text/plain": [
       "[35, 640]"
      ]
     },
     "execution_count": 78,
     "metadata": {},
     "output_type": "execute_result"
    }
   ],
   "source": [
    "def vectoriel(vec1,vec2):\n",
    "    res=[]\n",
    "    for i in range(2):\n",
    "        num=vec1[i]*vec2[i]\n",
    "        res.append(num)\n",
    "    return res\n",
    "\n",
    "vec1=[5, 8]\n",
    "vec2=[7, 80]\n",
    "vectoriel(vec1, vec2)\n"
   ]
  },
  {
   "cell_type": "code",
   "execution_count": 7,
   "id": "d0f19780",
   "metadata": {},
   "outputs": [
    {
     "name": "stdout",
     "output_type": "stream",
     "text": [
      "[0, 10, 314, 376, 455, 558, 562, 572, 839, 933]\n"
     ]
    }
   ],
   "source": [
    "import random\n",
    "L=random.sample(range(0,1000),10)\n",
    "\n",
    "def trier(liste):\n",
    "    r=[]\n",
    "    while liste:\n",
    "        mini=liste[0]\n",
    "        for i in liste:\n",
    "            if i < mini:\n",
    "                mini=i\n",
    "        liste.remove(mini)\n",
    "        r.append(mini)\n",
    "    return r\n",
    " \n",
    " \n",
    "     \n",
    "print (trier(L))"
   ]
  },
  {
   "cell_type": "code",
   "execution_count": 3,
   "id": "af503050",
   "metadata": {},
   "outputs": [
    {
     "name": "stdout",
     "output_type": "stream",
     "text": [
      "Entrez le nombre de depart 6\n",
      "720\n"
     ]
    }
   ],
   "source": [
    "def factorielle(n):\n",
    "    if n == 0:\n",
    "        return 1\n",
    "    else:\n",
    "        return n  * factorielle(n-1)\n",
    "n=int(input(\"Entrez le nombre de depart \"))\n",
    "print(factorielle(n))"
   ]
  },
  {
   "cell_type": "code",
   "execution_count": 17,
   "id": "6ce70a1e",
   "metadata": {},
   "outputs": [
    {
     "name": "stdout",
     "output_type": "stream",
     "text": [
      "[[7, 10], [15, 22]]\n"
     ]
    }
   ],
   "source": [
    "A = [[1, 2], [3, 4]]\n",
    "B = [[1, 2], [3, 4]]\n",
    "\n",
    "\n",
    "res = [[0 for x in range(2)] for y in range(2)]\n",
    " \n",
    "for i in range(len(A)):\n",
    "    for j in range(len(B[0])):\n",
    "        for k in range(len(B)):\n",
    " \n",
    "            res[i][j] += A[i][k] * B[k][j]\n",
    " \n",
    "print (res)"
   ]
  },
  {
   "cell_type": "code",
   "execution_count": 2,
   "id": "32f26b72",
   "metadata": {},
   "outputs": [
    {
     "name": "stdout",
     "output_type": "stream",
     "text": [
      "Entrez le nombre de termes:25\n",
      "Suite de Fibonacci est donc :\n",
      "0\n",
      "1\n",
      "1\n",
      "2\n",
      "3\n",
      "5\n",
      "8\n",
      "13\n",
      "21\n",
      "34\n",
      "55\n",
      "89\n",
      "144\n",
      "233\n",
      "377\n",
      "610\n",
      "987\n",
      "1597\n",
      "2584\n",
      "4181\n",
      "6765\n",
      "10946\n",
      "17711\n",
      "28657\n",
      "46368\n"
     ]
    }
   ],
   "source": [
    "def FIBO(n):\n",
    "    if(n <= 1):\n",
    "        return n\n",
    "    else:\n",
    "        return (FIBO(n-1) + FIBO(n-2))\n",
    "n = int(input(\"Entrez le nombre de termes:\"))\n",
    "print(\"Suite de Fibonacci est donc :\")\n",
    "for i in range(n):\n",
    "    print(FIBO(i))"
   ]
  },
  {
   "cell_type": "code",
   "execution_count": 5,
   "id": "f3c886b3",
   "metadata": {
    "scrolled": true
   },
   "outputs": [
    {
     "name": "stdout",
     "output_type": "stream",
     "text": [
      "entrez une valeur de fin : 5\n",
      "83\n"
     ]
    }
   ],
   "source": [
    "alpha=int(input(\"entrez une valeur de fin : \"))\n",
    "Hn = 0\n",
    "i = 0\n",
    "#array=[]\n",
    "while alpha > Hn:\n",
    "    i +=1\n",
    "    Hn += 1/i\n",
    "    #array.append(round(Hn,5))\n",
    "    \n",
    "\n",
    "#print(array)\n",
    "print (i)"
   ]
  },
  {
   "cell_type": "code",
   "execution_count": 6,
   "id": "917312c0",
   "metadata": {},
   "outputs": [],
   "source": [
    "n = 100\n",
    "s = 0\n",
    "for i in range(n):\n",
    "   a = n\n",
    "   while a > 1:\n",
    "      a = a/2\n",
    "   s += 1"
   ]
  },
  {
   "cell_type": "code",
   "execution_count": 7,
   "id": "a5e322ef",
   "metadata": {},
   "outputs": [
    {
     "name": "stdout",
     "output_type": "stream",
     "text": [
      "100\n"
     ]
    }
   ],
   "source": [
    "print(s)"
   ]
  },
  {
   "cell_type": "code",
   "execution_count": 15,
   "id": "f02b9f4a",
   "metadata": {},
   "outputs": [],
   "source": [
    "A = [[1, 2],[3, 4]]\n",
    "B = [[1, 2],[3, 4]]\n",
    "\n",
    "def matmul (a,b):\n",
    "    c=[[],[]]\n",
    "    for i in range(len(a)):\n",
    "        for j in range(len(b)):\n",
    "            s=0\n",
    "            for k in range(len(b)):\n",
    "                s+=a[i][k]*b[k][j]\n",
    "                c[i][j]=s\n",
    " \n",
    "    return c"
   ]
  },
  {
   "cell_type": "code",
   "execution_count": 16,
   "id": "c7191633",
   "metadata": {},
   "outputs": [
    {
     "ename": "IndexError",
     "evalue": "list assignment index out of range",
     "output_type": "error",
     "traceback": [
      "\u001b[1;31m---------------------------------------------------------------------------\u001b[0m",
      "\u001b[1;31mIndexError\u001b[0m                                Traceback (most recent call last)",
      "Cell \u001b[1;32mIn [16], line 1\u001b[0m\n\u001b[1;32m----> 1\u001b[0m \u001b[43mmatmul\u001b[49m\u001b[43m(\u001b[49m\u001b[43m[\u001b[49m\u001b[43m[\u001b[49m\u001b[38;5;241;43m1\u001b[39;49m\u001b[43m,\u001b[49m\u001b[43m \u001b[49m\u001b[38;5;241;43m2\u001b[39;49m\u001b[43m]\u001b[49m\u001b[43m,\u001b[49m\u001b[43m \u001b[49m\u001b[43m[\u001b[49m\u001b[38;5;241;43m3\u001b[39;49m\u001b[43m,\u001b[49m\u001b[43m \u001b[49m\u001b[38;5;241;43m4\u001b[39;49m\u001b[43m]\u001b[49m\u001b[43m]\u001b[49m\u001b[43m,\u001b[49m\u001b[43m[\u001b[49m\u001b[43m[\u001b[49m\u001b[38;5;241;43m1\u001b[39;49m\u001b[43m,\u001b[49m\u001b[43m \u001b[49m\u001b[38;5;241;43m2\u001b[39;49m\u001b[43m]\u001b[49m\u001b[43m,\u001b[49m\u001b[43m \u001b[49m\u001b[43m[\u001b[49m\u001b[38;5;241;43m3\u001b[39;49m\u001b[43m,\u001b[49m\u001b[43m \u001b[49m\u001b[38;5;241;43m4\u001b[39;49m\u001b[43m]\u001b[49m\u001b[43m]\u001b[49m\u001b[43m)\u001b[49m\n",
      "Cell \u001b[1;32mIn [15], line 11\u001b[0m, in \u001b[0;36mmatmul\u001b[1;34m(a, b)\u001b[0m\n\u001b[0;32m      9\u001b[0m         \u001b[38;5;28;01mfor\u001b[39;00m k \u001b[38;5;129;01min\u001b[39;00m \u001b[38;5;28mrange\u001b[39m(\u001b[38;5;28mlen\u001b[39m(b)):\n\u001b[0;32m     10\u001b[0m             s\u001b[38;5;241m+\u001b[39m\u001b[38;5;241m=\u001b[39ma[i][k]\u001b[38;5;241m*\u001b[39mb[k][j]\n\u001b[1;32m---> 11\u001b[0m             \u001b[43mc\u001b[49m\u001b[43m[\u001b[49m\u001b[43mi\u001b[49m\u001b[43m]\u001b[49m\u001b[43m[\u001b[49m\u001b[43mj\u001b[49m\u001b[43m]\u001b[49m\u001b[38;5;241m=\u001b[39ms\n\u001b[0;32m     13\u001b[0m \u001b[38;5;28;01mreturn\u001b[39;00m c\n",
      "\u001b[1;31mIndexError\u001b[0m: list assignment index out of range"
     ]
    }
   ],
   "source": [
    "matmul([[1, 2], [3, 4]],[[1, 2], [3, 4]])"
   ]
  },
  {
   "cell_type": "code",
   "execution_count": null,
   "id": "601f50ec",
   "metadata": {},
   "outputs": [],
   "source": []
  }
 ],
 "metadata": {
  "kernelspec": {
   "display_name": "Python 3 (ipykernel)",
   "language": "python",
   "name": "python3"
  },
  "language_info": {
   "codemirror_mode": {
    "name": "ipython",
    "version": 3
   },
   "file_extension": ".py",
   "mimetype": "text/x-python",
   "name": "python",
   "nbconvert_exporter": "python",
   "pygments_lexer": "ipython3",
   "version": "3.10.7"
  }
 },
 "nbformat": 4,
 "nbformat_minor": 5
}
