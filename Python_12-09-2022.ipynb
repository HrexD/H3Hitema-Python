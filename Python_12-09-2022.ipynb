{
 "cells": [
  {
   "cell_type": "code",
   "execution_count": null,
   "id": "16fd5e94",
   "metadata": {},
   "outputs": [],
   "source": [
    "n=int(input(\"nombre d'entrée voulues : \"))\n",
    "p1=3*n\n",
    "p2=9+n\n",
    "\n",
    "if p1<p2:\n",
    "    print(\"le premier tarif est favorable\")\n",
    "else:\n",
    "    print(\"le deuxieme tarif est favorable\")"
   ]
  },
  {
   "cell_type": "raw",
   "id": "b396edda",
   "metadata": {},
   "source": [
    "DEMANDER à l’utilisateur une valeur pour x\n",
    "DEMANDER à l’utilisateur une valeur pour y\n",
    "\n",
    "Déterminer SI X * Y est positif et l’afficher\n",
    "SINON afficher que X * Y est négatif"
   ]
  },
  {
   "cell_type": "code",
   "execution_count": null,
   "id": "d5291eb2",
   "metadata": {},
   "outputs": [],
   "source": [
    "x=int(input(\"Entrer une valeur pour X : \"))\n",
    "y=int(input(\"Entrer une valeur pour Y : \"))\n",
    "z= x* y\n",
    "\n",
    "if z > 0 :\n",
    "   print(\"la valeur du produit de vos deux entrées est positive\")\n",
    "else :\n",
    "  print(\"la valeur du produit de vos deux entrées est négative\")"
   ]
  },
  {
   "cell_type": "raw",
   "id": "79ef8596",
   "metadata": {},
   "source": [
    "DEMANDER à l’utilisateur une valeur pour n\n",
    "\n",
    "TANT QUE x < n, \n",
    "x s’incrémente de 1\n",
    "i <-- i + x\n",
    "AFFICHER i des que x == n"
   ]
  },
  {
   "cell_type": "code",
   "execution_count": null,
   "id": "49228000",
   "metadata": {},
   "outputs": [],
   "source": [
    "i = 0\n",
    "x = 0\n",
    "\n",
    "n=int(input(\"Entrainer une valeur : \"))\n",
    "\n",
    "while x < n :\n",
    "    x += 1\n",
    "    i = i+x\n",
    "    print(i)"
   ]
  },
  {
   "cell_type": "raw",
   "id": "e8af382f",
   "metadata": {},
   "source": [
    "CREER une liste"
   ]
  },
  {
   "cell_type": "code",
   "execution_count": 3,
   "id": "c3925e27",
   "metadata": {},
   "outputs": [
    {
     "name": "stdout",
     "output_type": "stream",
     "text": [
      "450\n"
     ]
    }
   ],
   "source": [
    "l = [ i for i in range (0,100,10) ]\n",
    "R=sum(l)\n",
    "print(f\"{R}\")"
   ]
  },
  {
   "cell_type": "code",
   "execution_count": null,
   "id": "e176449a",
   "metadata": {},
   "outputs": [],
   "source": [
    "def factorisation(tab1, tab2):\n",
    "    n = 0\n",
    "    for i in range(len(tab1)):\n",
    "        for j in range(len(tab2)):\n",
    "            n = n + tab1[i] * tab2[j]\n",
    "            print(n)\n",
    "    return n"
   ]
  },
  {
   "cell_type": "code",
   "execution_count": 2,
   "id": "3e5d73fc",
   "metadata": {},
   "outputs": [
    {
     "name": "stdout",
     "output_type": "stream",
     "text": [
      "Entrez le nombre de termes:10\n",
      "Suite de Fibonacci est donc :\n",
      "0\n",
      "1\n",
      "1\n",
      "2\n",
      "3\n",
      "5\n",
      "8\n",
      "13\n",
      "21\n",
      "34\n"
     ]
    }
   ],
   "source": [
    "def FIBO(n):\n",
    "    if(n <= 1):\n",
    "        return n\n",
    "    else:\n",
    "        return (FIBO(n-1) + FIBO(n-2))\n",
    "n = int(input(\"Entrez le nombre de termes:\"))\n",
    "print(\"Suite de Fibonacci est donc :\")\n",
    "for i in range(n):\n",
    "    print(FIBO(i))"
   ]
  },
  {
   "cell_type": "code",
   "execution_count": null,
   "id": "59df44ba",
   "metadata": {},
   "outputs": [],
   "source": []
  },
  {
   "cell_type": "code",
   "execution_count": null,
   "id": "7562bbb0",
   "metadata": {},
   "outputs": [],
   "source": []
  }
 ],
 "metadata": {
  "kernelspec": {
   "display_name": "Python 3 (ipykernel)",
   "language": "python",
   "name": "python3"
  },
  "language_info": {
   "codemirror_mode": {
    "name": "ipython",
    "version": 3
   },
   "file_extension": ".py",
   "mimetype": "text/x-python",
   "name": "python",
   "nbconvert_exporter": "python",
   "pygments_lexer": "ipython3",
   "version": "3.10.7"
  }
 },
 "nbformat": 4,
 "nbformat_minor": 5
}
