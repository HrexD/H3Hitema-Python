{
 "cells": [
  {
   "cell_type": "code",
   "execution_count": 2,
   "id": "e1f5783d",
   "metadata": {},
   "outputs": [
    {
     "name": "stdout",
     "output_type": "stream",
     "text": [
      "Entrer une valeur pour X : 8\n",
      "Entrer une valeur pour Y : 4\n",
      "la valeur du produit de vos deux entrées est positive\n"
     ]
    }
   ],
   "source": [
    "x=int(input(\"Entrer une valeur pour X : \"))\n",
    "y=int(input(\"Entrer une valeur pour Y : \"))\n",
    "z= x* y\n",
    "\n",
    "if z > 0 :\n",
    "   print(\"la valeur du produit de vos deux entrées est positive\")\n",
    "else :\n",
    "  print(\"la valeur du produit de vos deux entrées est négative\")"
   ]
  },
  {
   "cell_type": "code",
   "execution_count": 6,
   "id": "c56deec6",
   "metadata": {},
   "outputs": [
    {
     "ename": "SyntaxError",
     "evalue": "expected ':' (1314622471.py, line 7)",
     "output_type": "error",
     "traceback": [
      "\u001b[1;36m  Cell \u001b[1;32mIn [6], line 7\u001b[1;36m\u001b[0m\n\u001b[1;33m    else\u001b[0m\n\u001b[1;37m         ^\u001b[0m\n\u001b[1;31mSyntaxError\u001b[0m\u001b[1;31m:\u001b[0m expected ':'\n"
     ]
    }
   ],
   "source": [
    "n=int(input(\"nombre d'entrée voulues : \"))\n",
    "p1=3*n\n",
    "p2=9+n\n",
    "\n",
    "if p1<p2:\n",
    "    print(\"le premier tarif est favorable\")\n",
    "else \n",
    "    print(\"le deuxieme tarif est favorable\")"
   ]
  },
  {
   "cell_type": "code",
   "execution_count": null,
   "id": "e2d0403b",
   "metadata": {},
   "outputs": [],
   "source": []
  }
 ],
 "metadata": {
  "kernelspec": {
   "display_name": "Python 3 (ipykernel)",
   "language": "python",
   "name": "python3"
  },
  "language_info": {
   "codemirror_mode": {
    "name": "ipython",
    "version": 3
   },
   "file_extension": ".py",
   "mimetype": "text/x-python",
   "name": "python",
   "nbconvert_exporter": "python",
   "pygments_lexer": "ipython3",
   "version": "3.10.7"
  }
 },
 "nbformat": 4,
 "nbformat_minor": 5
}
