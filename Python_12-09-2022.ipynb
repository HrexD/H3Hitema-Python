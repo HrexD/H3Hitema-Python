{
 "cells": [
  {
   "cell_type": "code",
   "execution_count": null,
   "id": "16fd5e94",
   "metadata": {},
   "outputs": [],
   "source": [
    "n=int(input(\"nombre d'entrée voulues : \"))\n",
    "p1=3*n\n",
    "p2=9+n\n",
    "\n",
    "if p1<p2:\n",
    "    print(\"le premier tarif est favorable\")\n",
    "else:\n",
    "    print(\"le deuxieme tarif est favorable\")"
   ]
  },
  {
   "cell_type": "code",
   "execution_count": null,
   "id": "d5291eb2",
   "metadata": {},
   "outputs": [],
   "source": [
    "x=int(input(\"Entrer une valeur pour X : \"))\n",
    "y=int(input(\"Entrer une valeur pour Y : \"))\n",
    "z= x* y\n",
    "\n",
    "if z > 0 :\n",
    "   print(\"la valeur du produit de vos deux entrées est positive\")\n",
    "else :\n",
    "  print(\"la valeur du produit de vos deux entrées est négative\")"
   ]
  },
  {
   "cell_type": "code",
   "execution_count": null,
   "id": "49228000",
   "metadata": {},
   "outputs": [],
   "source": [
    "i = 0\n",
    "x = 0\n",
    "\n",
    "n=int(input(\"Entrainer une valeur : \"))\n",
    "\n",
    "while x < n :\n",
    "    x += 1\n",
    "    i = i+x\n",
    "    print(i)"
   ]
  },
  {
   "cell_type": "code",
   "execution_count": null,
   "id": "c3925e27",
   "metadata": {},
   "outputs": [],
   "source": [
    "l = [ i for i in range (0,10000,10) ]\n",
    "R=sum(l)\n",
    "print(f\"{R}\")"
   ]
  },
  {
   "cell_type": "code",
   "execution_count": null,
   "id": "e176449a",
   "metadata": {},
   "outputs": [],
   "source": [
    "def factorisation(tab1, tab2):\n",
    "    n = 0\n",
    "    for i in range(len(tab1)):\n",
    "        for j in range(len(tab2)):\n",
    "            n = n + tab1[i] * tab2[j]\n",
    "            print(n)\n",
    "    return n"
   ]
  },
  {
   "cell_type": "code",
   "execution_count": 3,
   "id": "3e5d73fc",
   "metadata": {},
   "outputs": [
    {
     "name": "stdout",
     "output_type": "stream",
     "text": [
      "Entrez le nombre de termes:1\n",
      "Suite de Fibonacci est donc :\n",
      "0\n"
     ]
    }
   ],
   "source": [
    "def fibonacci(n):\n",
    "    if(n <= 1):\n",
    "        return n\n",
    "    else:\n",
    "        return (fibonacci(n-1) + fibonacci(n-2))\n",
    "n = int(input(\"Entrez le nombre de termes:\"))\n",
    "print(\"Suite de Fibonacci est donc :\")\n",
    "for i in range(n):\n",
    "    print(fibonacci(i))"
   ]
  },
  {
   "cell_type": "code",
   "execution_count": null,
   "id": "59df44ba",
   "metadata": {},
   "outputs": [],
   "source": []
  },
  {
   "cell_type": "code",
   "execution_count": null,
   "id": "7562bbb0",
   "metadata": {},
   "outputs": [],
   "source": []
  }
 ],
 "metadata": {
  "kernelspec": {
   "display_name": "Python 3 (ipykernel)",
   "language": "python",
   "name": "python3"
  },
  "language_info": {
   "codemirror_mode": {
    "name": "ipython",
    "version": 3
   },
   "file_extension": ".py",
   "mimetype": "text/x-python",
   "name": "python",
   "nbconvert_exporter": "python",
   "pygments_lexer": "ipython3",
   "version": "3.10.7"
  }
 },
 "nbformat": 4,
 "nbformat_minor": 5
}
