{
 "cells": [
  {
   "cell_type": "code",
   "execution_count": 20,
   "id": "752feea6",
   "metadata": {},
   "outputs": [
    {
     "name": "stdout",
     "output_type": "stream",
     "text": [
      "90\n",
      "2\n"
     ]
    }
   ],
   "source": [
    "array=[80, 50, 90, 22, 87, 30, 50, 80, 90]\n",
    "maxi= array[0]\n",
    "for indice_max, i in enumerate(array):\n",
    "    if i > maxi:\n",
    "        maxi=i\n",
    "        indice = indice_max\n",
    "print(maxi)\n",
    "print(indice)"
   ]
  },
  {
   "cell_type": "code",
   "execution_count": 25,
   "id": "ee469af8",
   "metadata": {},
   "outputs": [
    {
     "name": "stdout",
     "output_type": "stream",
     "text": [
      "[63, 14, 17, 99, 76, 1, 47, 43, 66, 9, 92, 11, 36, 74, 38, 83, 98, 71, 0, 13]\n",
      "99\n",
      "3\n"
     ]
    }
   ],
   "source": [
    "import random\n",
    "array=random.sample(range(0,100),20)\n",
    "maxi= array[0]\n",
    "for indice_max, i in enumerate(array):\n",
    "    if i > maxi:\n",
    "        maxi=i\n",
    "        indice = indice_max\n",
    "        \n",
    "print(array)\n",
    "print(maxi)\n",
    "print(indice)"
   ]
  },
  {
   "cell_type": "code",
   "execution_count": 18,
   "id": "94be66b6",
   "metadata": {},
   "outputs": [
    {
     "name": "stdout",
     "output_type": "stream",
     "text": [
      "[96, 36, 49, 55, 11, 94, 6, 89, 71, 52, 64, 54, 87, 33, 84, 32, 4, 16, 66, 67] \n",
      "\n",
      "Moyenne de la liste = 53.3\n",
      "[54, 55, 64, 66, 67, 71, 84, 87, 89, 94, 96]\n",
      "[4, 6, 11, 16, 32, 33, 36, 49, 52]\n"
     ]
    }
   ],
   "source": [
    "def Average(array):\n",
    "    return sum(array) / len(array)\n",
    "\n",
    "import random\n",
    "array=random.sample(range(0,100),20)\n",
    "supp=[]\n",
    "lower=[]\n",
    "longueur=len(array)\n",
    "average = Average(array)\n",
    "print((array),\"\\n\")\n",
    "\n",
    "print(\"Moyenne de la liste =\", round(average, 2))\n",
    "for i in range(longueur):\n",
    "    if array[i] > average:\n",
    "        supp.append(array[i])\n",
    "    elif array[i] < average:\n",
    "        lower.append(array[i])\n",
    "print(sorted(supp))\n",
    "print(sorted(lower))"
   ]
  },
  {
   "cell_type": "code",
   "execution_count": 20,
   "id": "3f3cbd77",
   "metadata": {
    "scrolled": true
   },
   "outputs": [
    {
     "name": "stdout",
     "output_type": "stream",
     "text": [
      "[34, 5, 69, 1, 29, 59, 73, 46, 20, 27]\n",
      "l'indice max se situe en [6] position(s)\n",
      "la valeur max est 73\n"
     ]
    }
   ],
   "source": [
    "import random\n",
    "a=random.sample(range(0,100),10)\n",
    "m= max(a)\n",
    "indice=[i for i, j in enumerate(a) if j == m]\n",
    "print(a)\n",
    "print(f\"l'indice max se situe en {indice} position(s)\")\n",
    "print(f\"la valeur max est {m}\")"
   ]
  },
  {
   "cell_type": "code",
   "execution_count": 21,
   "id": "52f59ae0",
   "metadata": {},
   "outputs": [
    {
     "name": "stdout",
     "output_type": "stream",
     "text": [
      "l'indice max se situe en [2, 8] position(s)\n",
      "la valeur max est 90\n"
     ]
    }
   ],
   "source": [
    "a=[80, 50, 90, 22, 87, 30, 50, 80, 90]\n",
    "m= max(a)\n",
    "indice=[i for i, j in enumerate(a) if j == m]\n",
    "print(f\"l'indice max se situe en {indice} position(s)\")\n",
    "print(f\"la valeur max est {m}\")\n"
   ]
  },
  {
   "cell_type": "code",
   "execution_count": 78,
   "id": "2c1ea6ee",
   "metadata": {},
   "outputs": [
    {
     "data": {
      "text/plain": [
       "[35, 640]"
      ]
     },
     "execution_count": 78,
     "metadata": {},
     "output_type": "execute_result"
    }
   ],
   "source": [
    "def vectoriel(vec1,vec2):\n",
    "    res=[]\n",
    "    for i in range(2):\n",
    "        num=vec1[i]*vec2[i]\n",
    "        res.append(num)\n",
    "    return res\n",
    "\n",
    "vec1=[5, 8]\n",
    "vec2=[7, 80]\n",
    "vectoriel(vec1, vec2)\n"
   ]
  },
  {
   "cell_type": "code",
   "execution_count": 7,
   "id": "d0f19780",
   "metadata": {},
   "outputs": [
    {
     "name": "stdout",
     "output_type": "stream",
     "text": [
      "[0, 10, 314, 376, 455, 558, 562, 572, 839, 933]\n"
     ]
    }
   ],
   "source": [
    "import random\n",
    "L=random.sample(range(0,1000),10)\n",
    "\n",
    "def trier(liste):\n",
    "    r=[]\n",
    "    while liste:\n",
    "        mini=liste[0]\n",
    "        for i in liste:\n",
    "            if i < mini:\n",
    "                mini=i\n",
    "        liste.remove(mini)\n",
    "        r.append(mini)\n",
    "    return r\n",
    " \n",
    " \n",
    "     \n",
    "print (trier(L))"
   ]
  },
  {
   "cell_type": "code",
   "execution_count": 28,
   "id": "af503050",
   "metadata": {},
   "outputs": [
    {
     "name": "stdout",
     "output_type": "stream",
     "text": [
      "Entrez le nombre de depart 500\n",
      "1220136825991110068701238785423046926253574342803192842192413588385845373153881997605496447502203281863013616477148203584163378722078177200480785205159329285477907571939330603772960859086270429174547882424912726344305670173270769461062802310452644218878789465754777149863494367781037644274033827365397471386477878495438489595537537990423241061271326984327745715546309977202781014561081188373709531016356324432987029563896628911658974769572087926928871281780070265174507768410719624390394322536422605234945850129918571501248706961568141625359056693423813008856249246891564126775654481886506593847951775360894005745238940335798476363944905313062323749066445048824665075946735862074637925184200459369692981022263971952597190945217823331756934581508552332820762820023402626907898342451712006207714640979456116127629145951237229913340169552363850942885592018727433795173014586357570828355780158735432768888680120399882384702151467605445407663535984174430480128938313896881639487469658817504506926365338175055478128640000000000000000000000000000000000000000000000000000000000000000000000000000000000000000000000000000000000000000000000000000\n"
     ]
    }
   ],
   "source": [
    "def factorielle(n):\n",
    "    if n == 0:\n",
    "        return 1\n",
    "    else:\n",
    "        return n  * factorielle(n-1)\n",
    "n=int(input(\"Entrez le nombre de depart \"))\n",
    "print(factorielle(n))"
   ]
  },
  {
   "cell_type": "code",
   "execution_count": 17,
   "id": "6ce70a1e",
   "metadata": {},
   "outputs": [
    {
     "name": "stdout",
     "output_type": "stream",
     "text": [
      "[[2000, 3615], [2774, 8845]]\n"
     ]
    }
   ],
   "source": [
    "A = [[25, 30], [87, 40]]\n",
    "B = [[2, 75], [65, 58]]\n",
    "\n",
    "\n",
    "res = [[0 for x in range(2)] for y in range(2)]\n",
    " \n",
    "for i in range(len(A)):\n",
    "    for j in range(len(B[0])):\n",
    "        for k in range(len(B)):\n",
    " \n",
    "            res[i][j] += A[i][k] * B[k][j]\n",
    " \n",
    "print (res)"
   ]
  },
  {
   "cell_type": "code",
   "execution_count": 8,
   "id": "32f26b72",
   "metadata": {},
   "outputs": [
    {
     "name": "stdout",
     "output_type": "stream",
     "text": [
      "Entrez le nombre de termes:10\n",
      "Suite de Fibonacci est donc :\n",
      "0\n",
      "1\n",
      "1\n",
      "2\n",
      "3\n",
      "5\n",
      "8\n",
      "13\n",
      "21\n",
      "34\n"
     ]
    }
   ],
   "source": [
    "def FIBO(n):\n",
    "    if(n <= 1):\n",
    "        return n\n",
    "    else:\n",
    "        return (FIBO(n-1) + FIBO(n-2))\n",
    "n = int(input(\"Entrez le nombre de termes:\"))\n",
    "print(\"Suite de Fibonacci est donc :\")\n",
    "for i in range(n):\n",
    "    print(FIBO(i))"
   ]
  },
  {
   "cell_type": "code",
   "execution_count": 43,
   "id": "f3c886b3",
   "metadata": {},
   "outputs": [
    {
     "name": "stdout",
     "output_type": "stream",
     "text": [
      "entrez une valeur de fin : 5\n",
      "[1.0, 1.5, 1.83, 2.08, 2.28, 2.45, 2.59, 2.72, 2.83, 2.93, 3.02, 3.1, 3.18, 3.25, 3.32, 3.38, 3.44, 3.5, 3.55, 3.6, 3.65, 3.69, 3.73, 3.78, 3.82, 3.85, 3.89, 3.93, 3.96, 3.99, 4.03, 4.06, 4.09, 4.12, 4.15, 4.17, 4.2, 4.23, 4.25, 4.28, 4.3, 4.33, 4.35, 4.37, 4.39, 4.42, 4.44, 4.46, 4.48, 4.5, 4.52, 4.54, 4.56, 4.58, 4.59, 4.61, 4.63, 4.65, 4.66, 4.68, 4.7, 4.71, 4.73, 4.74, 4.76, 4.77, 4.79, 4.8, 4.82, 4.83, 4.85, 4.86, 4.87, 4.89, 4.9, 4.91, 4.93, 4.94, 4.95, 4.97, 4.98, 4.99, 5.0]\n",
      "83\n"
     ]
    }
   ],
   "source": [
    "alpha=int(input(\"entrez une valeur de fin : \"))\n",
    "Hn = 0\n",
    "i = 1\n",
    "array=[]\n",
    "while alpha > Hn:\n",
    "    Hn += 1/i\n",
    "    array.append(round(Hn,2))\n",
    "    i +=1\n",
    "\n",
    "print(array)\n",
    "print (i-1)"
   ]
  },
  {
   "cell_type": "code",
   "execution_count": null,
   "id": "e3fdd8ae",
   "metadata": {},
   "outputs": [],
   "source": []
  }
 ],
 "metadata": {
  "kernelspec": {
   "display_name": "Python 3 (ipykernel)",
   "language": "python",
   "name": "python3"
  },
  "language_info": {
   "codemirror_mode": {
    "name": "ipython",
    "version": 3
   },
   "file_extension": ".py",
   "mimetype": "text/x-python",
   "name": "python",
   "nbconvert_exporter": "python",
   "pygments_lexer": "ipython3",
   "version": "3.10.7"
  }
 },
 "nbformat": 4,
 "nbformat_minor": 5
}
