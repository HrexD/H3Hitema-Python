{
 "cells": [
  {
   "cell_type": "code",
   "execution_count": 20,
   "id": "171c9ee8",
   "metadata": {},
   "outputs": [
    {
     "name": "stdout",
     "output_type": "stream",
     "text": [
      "90\n",
      "2\n"
     ]
    }
   ],
   "source": [
    "array=[80, 50, 90, 22, 87, 30, 50, 80, 90]\n",
    "maxi= array[0]\n",
    "for indice_max, i in enumerate(array):\n",
    "    if i > maxi:\n",
    "        maxi=i\n",
    "        indice = indice_max\n",
    "print(maxi)\n",
    "print(indice)"
   ]
  },
  {
   "cell_type": "code",
   "execution_count": 55,
   "id": "596754a9",
   "metadata": {},
   "outputs": [
    {
     "name": "stdout",
     "output_type": "stream",
     "text": [
      "[2, 10, 22, 30, 30, 50, 50, 80, 80, 85, 87, 90, 90, 100] \n",
      "\n",
      "Moyenne de la liste = 57.57\n",
      "[80, 80, 85, 87, 90, 90, 100]\n",
      "[2, 10, 22, 30, 30, 50, 50]\n"
     ]
    }
   ],
   "source": [
    "def Average(array):\n",
    "    return sum(array) / len(array)\n",
    "\n",
    "array=[80, 50, 90, 22, 87, 30, 50, 80, 90, 100, 10, 2, 85, 30]\n",
    "supp=[]\n",
    "lower=[]\n",
    "longueur=len(array)\n",
    "average = Average(array)\n",
    "print(sorted(array),\"\\n\")\n",
    "\n",
    "print(\"Moyenne de la liste =\", round(average, 2))\n",
    "for i in range(longueur):\n",
    "    if array[i] > average:\n",
    "        supp.append(array[i])\n",
    "    elif array[i] < average:\n",
    "        lower.append(array[i])\n",
    "print(sorted(supp))\n",
    "print(sorted(lower))"
   ]
  },
  {
   "cell_type": "code",
   "execution_count": 31,
   "id": "e6ae605f",
   "metadata": {},
   "outputs": [
    {
     "name": "stdout",
     "output_type": "stream",
     "text": [
      "l'indice max se situe en [2, 8] position(s)\n",
      "la valeur max est 90\n"
     ]
    }
   ],
   "source": [
    "a=[80, 50, 90, 22, 87, 30, 50, 80, 90]\n",
    "m= max(a)\n",
    "indice=[i for i, j in enumerate(a) if j == m]\n",
    "print(f\"l'indice max se situe en {indice} position(s)\")\n",
    "print(f\"la valeur max est {m}\")\n"
   ]
  },
  {
   "cell_type": "code",
   "execution_count": 78,
   "id": "e114ad9c",
   "metadata": {},
   "outputs": [
    {
     "data": {
      "text/plain": [
       "[35, 640]"
      ]
     },
     "execution_count": 78,
     "metadata": {},
     "output_type": "execute_result"
    }
   ],
   "source": [
    "def vectoriel(vec1,vec2):\n",
    "    res=[]\n",
    "    for i in range(2):\n",
    "        num=vec1[i]*vec2[i]\n",
    "        res.append(num)\n",
    "    return res\n",
    "\n",
    "vec1=[5, 8]\n",
    "vec2=[7, 80]\n",
    "vectoriel(vec1, vec2)\n"
   ]
  },
  {
   "cell_type": "code",
   "execution_count": 79,
   "id": "4acc4817",
   "metadata": {},
   "outputs": [
    {
     "name": "stdout",
     "output_type": "stream",
     "text": [
      "Entrez le nombre de depart 7\n",
      "5040\n"
     ]
    }
   ],
   "source": [
    "def factorielle(n):\n",
    "    if n == 0:\n",
    "        return 1\n",
    "    else:\n",
    "        return n  * factorielle(n-1)\n",
    "n=int(input(\"Entrez le nombre de depart \"))\n",
    "print(factorielle(n))"
   ]
  },
  {
   "cell_type": "code",
   "execution_count": 100,
   "id": "091f27da",
   "metadata": {},
   "outputs": [
    {
     "name": "stdout",
     "output_type": "stream",
     "text": [
      "[588, 34, 414, 465, 509, 343, 338, 723, 20, 410]\n"
     ]
    },
    {
     "data": {
      "text/plain": [
       "[20, 34, 338, 343, 410, 414, 465, 509, 588, 723]"
      ]
     },
     "execution_count": 100,
     "metadata": {},
     "output_type": "execute_result"
    }
   ],
   "source": [
    "import random\n",
    "L=random.sample(range(0,1000),10)\n",
    "print(L)\n",
    "sorted(L)"
   ]
  },
  {
   "cell_type": "code",
   "execution_count": 98,
   "id": "654d8792",
   "metadata": {},
   "outputs": [
    {
     "name": "stdout",
     "output_type": "stream",
     "text": [
      "[25, 64, 33, 40, 83, 1, 56, 36, 38, 60]\n",
      "l'indice max se situe en [4] position(s)\n",
      "la valeur max est 83\n"
     ]
    }
   ],
   "source": [
    "import random\n",
    "a=random.sample(range(0,100),10)\n",
    "m= max(a)\n",
    "indice=[i for i, j in enumerate(a) if j == m]\n",
    "print(a)\n",
    "print(f\"l'indice max se situe en {indice} position(s)\")\n",
    "print(f\"la valeur max est {m}\")"
   ]
  },
  {
   "cell_type": "code",
   "execution_count": null,
   "id": "971ae48c",
   "metadata": {},
   "outputs": [],
   "source": []
  },
  {
   "cell_type": "code",
   "execution_count": null,
   "id": "922b8143",
   "metadata": {},
   "outputs": [],
   "source": []
  }
 ],
 "metadata": {
  "kernelspec": {
   "display_name": "Python 3 (ipykernel)",
   "language": "python",
   "name": "python3"
  },
  "language_info": {
   "codemirror_mode": {
    "name": "ipython",
    "version": 3
   },
   "file_extension": ".py",
   "mimetype": "text/x-python",
   "name": "python",
   "nbconvert_exporter": "python",
   "pygments_lexer": "ipython3",
   "version": "3.10.7"
  }
 },
 "nbformat": 4,
 "nbformat_minor": 5
}
