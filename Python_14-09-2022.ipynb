{
 "cells": [
  {
   "cell_type": "code",
   "execution_count": 20,
   "id": "752feea6",
   "metadata": {},
   "outputs": [
    {
     "name": "stdout",
     "output_type": "stream",
     "text": [
      "90\n",
      "2\n"
     ]
    }
   ],
   "source": [
    "array=[80, 50, 90, 22, 87, 30, 50, 80, 90]\n",
    "maxi= array[0]\n",
    "for indice_max, i in enumerate(array):\n",
    "    if i > maxi:\n",
    "        maxi=i\n",
    "        indice = indice_max\n",
    "print(maxi)\n",
    "print(indice)"
   ]
  },
  {
   "cell_type": "code",
   "execution_count": 110,
   "id": "94be66b6",
   "metadata": {},
   "outputs": [
    {
     "name": "stdout",
     "output_type": "stream",
     "text": [
      "[33, 67, 2, 5, 13, 36, 63, 35, 99, 14, 39, 44, 21, 6, 98, 65, 68, 23, 71, 69, 96, 87, 56, 94, 47, 45, 28, 7, 91, 97, 79, 82, 90, 74, 51, 25, 29, 73, 31, 61] \n",
      "\n",
      "Moyenne de la liste = 52.85\n",
      "[56, 61, 63, 65, 67, 68, 69, 71, 73, 74, 79, 82, 87, 90, 91, 94, 96, 97, 98, 99]\n",
      "[2, 5, 6, 7, 13, 14, 21, 23, 25, 28, 29, 31, 33, 35, 36, 39, 44, 45, 47, 51]\n"
     ]
    }
   ],
   "source": [
    "def Average(array):\n",
    "    return sum(array) / len(array)\n",
    "\n",
    "import random\n",
    "array=random.sample(range(0,100),40)\n",
    "supp=[]\n",
    "lower=[]\n",
    "longueur=len(array)\n",
    "average = Average(array)\n",
    "print((array),\"\\n\")\n",
    "\n",
    "print(\"Moyenne de la liste =\", round(average, 2))\n",
    "for i in range(longueur):\n",
    "    if array[i] > average:\n",
    "        supp.append(array[i])\n",
    "    elif array[i] < average:\n",
    "        lower.append(array[i])\n",
    "print(sorted(supp))\n",
    "print(sorted(lower))"
   ]
  },
  {
   "cell_type": "code",
   "execution_count": 98,
   "id": "3f3cbd77",
   "metadata": {
    "scrolled": true
   },
   "outputs": [
    {
     "name": "stdout",
     "output_type": "stream",
     "text": [
      "[25, 64, 33, 40, 83, 1, 56, 36, 38, 60]\n",
      "l'indice max se situe en [4] position(s)\n",
      "la valeur max est 83\n"
     ]
    }
   ],
   "source": [
    "import random\n",
    "a=random.sample(range(0,100),10)\n",
    "m= max(a)\n",
    "indice=[i for i, j in enumerate(a) if j == m]\n",
    "print(a)\n",
    "print(f\"l'indice max se situe en {indice} position(s)\")\n",
    "print(f\"la valeur max est {m}\")"
   ]
  },
  {
   "cell_type": "code",
   "execution_count": 31,
   "id": "52f59ae0",
   "metadata": {},
   "outputs": [
    {
     "name": "stdout",
     "output_type": "stream",
     "text": [
      "l'indice max se situe en [2, 8] position(s)\n",
      "la valeur max est 90\n"
     ]
    }
   ],
   "source": [
    "a=[80, 50, 90, 22, 87, 30, 50, 80, 90]\n",
    "m= max(a)\n",
    "indice=[i for i, j in enumerate(a) if j == m]\n",
    "print(f\"l'indice max se situe en {indice} position(s)\")\n",
    "print(f\"la valeur max est {m}\")\n"
   ]
  },
  {
   "cell_type": "code",
   "execution_count": 78,
   "id": "2c1ea6ee",
   "metadata": {},
   "outputs": [
    {
     "data": {
      "text/plain": [
       "[35, 640]"
      ]
     },
     "execution_count": 78,
     "metadata": {},
     "output_type": "execute_result"
    }
   ],
   "source": [
    "def vectoriel(vec1,vec2):\n",
    "    res=[]\n",
    "    for i in range(2):\n",
    "        num=vec1[i]*vec2[i]\n",
    "        res.append(num)\n",
    "    return res\n",
    "\n",
    "vec1=[5, 8]\n",
    "vec2=[7, 80]\n",
    "vectoriel(vec1, vec2)\n"
   ]
  },
  {
   "cell_type": "code",
   "execution_count": 7,
   "id": "d0f19780",
   "metadata": {},
   "outputs": [
    {
     "name": "stdout",
     "output_type": "stream",
     "text": [
      "[0, 10, 314, 376, 455, 558, 562, 572, 839, 933]\n"
     ]
    }
   ],
   "source": [
    "import random\n",
    "L=random.sample(range(0,1000),10)\n",
    "\n",
    "def trier(liste):\n",
    "    r=[]\n",
    "    while liste:\n",
    "        mini=liste[0]\n",
    "        for i in liste:\n",
    "            if i < mini:\n",
    "                mini=i\n",
    "        liste.remove(mini)\n",
    "        r.append(mini)\n",
    "    return r\n",
    " \n",
    " \n",
    "     \n",
    "print (trier(L))"
   ]
  },
  {
   "cell_type": "code",
   "execution_count": 79,
   "id": "af503050",
   "metadata": {},
   "outputs": [
    {
     "name": "stdout",
     "output_type": "stream",
     "text": [
      "Entrez le nombre de depart 7\n",
      "5040\n"
     ]
    }
   ],
   "source": [
    "def factorielle(n):\n",
    "    if n == 0:\n",
    "        return 1\n",
    "    else:\n",
    "        return n  * factorielle(n-1)\n",
    "n=int(input(\"Entrez le nombre de depart \"))\n",
    "print(factorielle(n))"
   ]
  },
  {
   "cell_type": "code",
   "execution_count": 108,
   "id": "6ce70a1e",
   "metadata": {},
   "outputs": [
    {
     "name": "stdout",
     "output_type": "stream",
     "text": [
      "[[102, 145], [50, 67]]\n"
     ]
    }
   ],
   "source": [
    "A = [[12,7], [4 ,5]]\n",
    "B = [[5,8], [6,7]]\n",
    " \n",
    "res = [[0 for x in range(2)] for y in range(2)]\n",
    " \n",
    "for i in range(len(A)):\n",
    "    for j in range(len(B[0])):\n",
    "        for k in range(len(B)):\n",
    " \n",
    "            res[i][j] += A[i][k] * B[k][j]\n",
    " \n",
    "print (res)"
   ]
  },
  {
   "cell_type": "code",
   "execution_count": 113,
   "id": "32f26b72",
   "metadata": {},
   "outputs": [
    {
     "name": "stdout",
     "output_type": "stream",
     "text": [
      "Entrez le nombre de termes:100\n",
      "Suite de Fibonacci est donc :\n",
      "0\n",
      "1\n",
      "1\n",
      "2\n",
      "3\n",
      "5\n",
      "8\n",
      "13\n",
      "21\n",
      "34\n",
      "55\n",
      "89\n",
      "144\n",
      "233\n",
      "377\n",
      "610\n",
      "987\n",
      "1597\n",
      "2584\n",
      "4181\n",
      "6765\n",
      "10946\n",
      "17711\n",
      "28657\n",
      "46368\n",
      "75025\n",
      "121393\n",
      "196418\n",
      "317811\n",
      "514229\n",
      "832040\n",
      "1346269\n",
      "2178309\n",
      "3524578\n",
      "5702887\n",
      "9227465\n",
      "14930352\n"
     ]
    },
    {
     "ename": "KeyboardInterrupt",
     "evalue": "",
     "output_type": "error",
     "traceback": [
      "\u001b[1;31m---------------------------------------------------------------------------\u001b[0m",
      "\u001b[1;31mKeyboardInterrupt\u001b[0m                         Traceback (most recent call last)",
      "Cell \u001b[1;32mIn [113], line 9\u001b[0m\n\u001b[0;32m      7\u001b[0m \u001b[38;5;28mprint\u001b[39m(\u001b[38;5;124m\"\u001b[39m\u001b[38;5;124mSuite de Fibonacci est donc :\u001b[39m\u001b[38;5;124m\"\u001b[39m)\n\u001b[0;32m      8\u001b[0m \u001b[38;5;28;01mfor\u001b[39;00m i \u001b[38;5;129;01min\u001b[39;00m \u001b[38;5;28mrange\u001b[39m(n):\n\u001b[1;32m----> 9\u001b[0m     \u001b[38;5;28mprint\u001b[39m(\u001b[43mFIBO\u001b[49m\u001b[43m(\u001b[49m\u001b[43mi\u001b[49m\u001b[43m)\u001b[49m)\n",
      "Cell \u001b[1;32mIn [113], line 5\u001b[0m, in \u001b[0;36mFIBO\u001b[1;34m(n)\u001b[0m\n\u001b[0;32m      3\u001b[0m     \u001b[38;5;28;01mreturn\u001b[39;00m n\n\u001b[0;32m      4\u001b[0m \u001b[38;5;28;01melse\u001b[39;00m:\n\u001b[1;32m----> 5\u001b[0m     \u001b[38;5;28;01mreturn\u001b[39;00m (\u001b[43mFIBO\u001b[49m\u001b[43m(\u001b[49m\u001b[43mn\u001b[49m\u001b[38;5;241;43m-\u001b[39;49m\u001b[38;5;241;43m1\u001b[39;49m\u001b[43m)\u001b[49m \u001b[38;5;241m+\u001b[39m FIBO(n\u001b[38;5;241m-\u001b[39m\u001b[38;5;241m2\u001b[39m))\n",
      "Cell \u001b[1;32mIn [113], line 5\u001b[0m, in \u001b[0;36mFIBO\u001b[1;34m(n)\u001b[0m\n\u001b[0;32m      3\u001b[0m     \u001b[38;5;28;01mreturn\u001b[39;00m n\n\u001b[0;32m      4\u001b[0m \u001b[38;5;28;01melse\u001b[39;00m:\n\u001b[1;32m----> 5\u001b[0m     \u001b[38;5;28;01mreturn\u001b[39;00m (FIBO(n\u001b[38;5;241m-\u001b[39m\u001b[38;5;241m1\u001b[39m) \u001b[38;5;241m+\u001b[39m \u001b[43mFIBO\u001b[49m\u001b[43m(\u001b[49m\u001b[43mn\u001b[49m\u001b[38;5;241;43m-\u001b[39;49m\u001b[38;5;241;43m2\u001b[39;49m\u001b[43m)\u001b[49m)\n",
      "    \u001b[1;31m[... skipping similar frames: FIBO at line 5 (24 times)]\u001b[0m\n",
      "Cell \u001b[1;32mIn [113], line 5\u001b[0m, in \u001b[0;36mFIBO\u001b[1;34m(n)\u001b[0m\n\u001b[0;32m      3\u001b[0m     \u001b[38;5;28;01mreturn\u001b[39;00m n\n\u001b[0;32m      4\u001b[0m \u001b[38;5;28;01melse\u001b[39;00m:\n\u001b[1;32m----> 5\u001b[0m     \u001b[38;5;28;01mreturn\u001b[39;00m (FIBO(n\u001b[38;5;241m-\u001b[39m\u001b[38;5;241m1\u001b[39m) \u001b[38;5;241m+\u001b[39m \u001b[43mFIBO\u001b[49m\u001b[43m(\u001b[49m\u001b[43mn\u001b[49m\u001b[38;5;241;43m-\u001b[39;49m\u001b[38;5;241;43m2\u001b[39;49m\u001b[43m)\u001b[49m)\n",
      "\u001b[1;31mKeyboardInterrupt\u001b[0m: "
     ]
    }
   ],
   "source": [
    "def FIBO(n):\n",
    "    if(n <= 1):\n",
    "        return n\n",
    "    else:\n",
    "        return (FIBO(n-1) + FIBO(n-2))\n",
    "n = int(input(\"Entrez le nombre de termes:\"))\n",
    "print(\"Suite de Fibonacci est donc :\")\n",
    "for i in range(n):\n",
    "    print(FIBO(i))"
   ]
  },
  {
   "cell_type": "code",
   "execution_count": null,
   "id": "f3c886b3",
   "metadata": {},
   "outputs": [],
   "source": []
  }
 ],
 "metadata": {
  "kernelspec": {
   "display_name": "Python 3 (ipykernel)",
   "language": "python",
   "name": "python3"
  },
  "language_info": {
   "codemirror_mode": {
    "name": "ipython",
    "version": 3
   },
   "file_extension": ".py",
   "mimetype": "text/x-python",
   "name": "python",
   "nbconvert_exporter": "python",
   "pygments_lexer": "ipython3",
   "version": "3.10.7"
  }
 },
 "nbformat": 4,
 "nbformat_minor": 5
}
